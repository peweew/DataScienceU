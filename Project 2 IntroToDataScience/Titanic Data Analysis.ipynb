{
 "cells": [
  {
   "cell_type": "markdown",
   "metadata": {},
   "source": [
    "# Survey Report on Titanic "
   ]
  },
  {
   "cell_type": "markdown",
   "metadata": {},
   "source": [
    "Titanic was a famous Bristish passenger ship that sank in 15 April 1912 in the North Altantic Ocean. There were an estimated 1500 death among 2300 passengers and crew members on board. It was one of the greatest Tragedies in the early 20th century.\n",
    "\n",
    "We will use the data of passengers provided by Kaggle website, with most of data well maintained. We will use the data analysis general process--Quesion, Loading data, Exploring Data, Conclusion, to analyze the data of passengers in Titanic.\n"
   ]
  },
  {
   "cell_type": "markdown",
   "metadata": {},
   "source": [
    "## Questions\n",
    "\n",
    "In this section, we discuss the questions after briefly read the csv data. Our data set only contains 891 passengers information. But it is big enough for us to analyze our data based on this sample.\n",
    "\n",
    "It is well known that Titanic hit an iceberg in the south of Newfoundland and cause the tragedy. But nowadays we are able to use the data science technology to analyze the possible survival chance from people's background. When we analyze our data, we find there are 12 columns on csv file, corresponding to different factors of a person's background. It seems that for each factor, it may related to the survive chance of a person on board of Titanic. So\n",
    "we raise the following questions:\n",
    "\n",
    ">**Question: Which factors of a person's background will make him/her more chance to survive on Titanic? **\n",
    "\n",
    "Since there are 12 columns, it corresponding to 12 variables on data set. We briefly introduce the meaning of this columns and select a few that are meanful to analyze the chance of survive rate. The columns are:\n",
    "\n",
    "|Column Name | Meaning        |\n",
    "|:------------:|:----------------:|\n",
    "|PassengeID  | ID |\n",
    "|Survival    | Survival (0 = No; 1 = Yes)|\n",
    "|Pclass      |    Passenger Class (1 = 1st; 2 = 2nd; 3 = 3rd)|\n",
    "|Name        |    Name|\n",
    "|Sex         |    Sex  |\n",
    "|Age           |    Age|\n",
    "|Sibsp        |     Number of Siblings/Spouses Aboard|\n",
    "|Parch        |     Number of Parents/Children Aboard|\n",
    "|Ticket       |     Ticket Number|\n",
    "|Fare          |    Passenger Fare|\n",
    "|Cabin         |    Cabin|\n",
    "|Embarked      |    Port of Embarkation (C = Cherbourg; Q = Queenstown; S = Southampton)|\n",
    "\n",
    "When we briefly review the data, we find some data not suitable for analysing the chance of survival since it is obviously not related to the survival chance of passengers, such as PassengeID, Name, Ticket, Embarded. Some other data are related to the survival chance of passengers but lost most of the data, so they can not provide accuracy for data analysis, such as Cabin. For the rest columns, we are interested in analyzing the following relations between survival chance and person's background:\n",
    "\n",
    "Relation between survival rate with Pclass, which is the passenger class in first class, second class, and third class; \n",
    "\n",
    ">**Question1: Will the first class and second class, which are bought by rich people, make him/her more chance to survive on Titanic? **\n",
    "\n",
    "Relation between survival rate and the sex, which is male and female; \n",
    "\n",
    ">**Question2: Will male has more chance to survival? or the female first morality make her more chance to survive on Titanic? **\n",
    "\n",
    "Relation between survival rate and the age, such as old, adult and child; \n",
    "\n",
    ">**Question3: Will children are carefully cared in the evacuation process?**\n",
    "\n",
    "Relation between survival rate and the fare of ticket, which is the ticket price. This factor may be same as the first one.\n",
    "\n",
    ">**Question4: Is the person with high cost ticket make him/her survive? **\n",
    "\n",
    "\n",
    "\n",
    " \n",
    "\n",
    "\n",
    "\n"
   ]
  },
  {
   "cell_type": "markdown",
   "metadata": {},
   "source": [
    "Therefore, we have total four varibles: PClass, Sex, Age, and Fare. All these factors are independent variables. We will use them to relate to Survival, which is dependent variable. "
   ]
  },
  {
   "cell_type": "markdown",
   "metadata": {},
   "source": [
    "## Loading Data\n",
    "\n",
    "In this section we load our data into python IDE and show the head of data set for a brief review."
   ]
  },
  {
   "cell_type": "code",
   "execution_count": 2,
   "metadata": {},
   "outputs": [
    {
     "name": "stdout",
     "output_type": "stream",
     "text": [
      "Populating the interactive namespace from numpy and matplotlib\n"
     ]
    },
    {
     "data": {
      "text/html": [
       "<div>\n",
       "<style>\n",
       "    .dataframe thead tr:only-child th {\n",
       "        text-align: right;\n",
       "    }\n",
       "\n",
       "    .dataframe thead th {\n",
       "        text-align: left;\n",
       "    }\n",
       "\n",
       "    .dataframe tbody tr th {\n",
       "        vertical-align: top;\n",
       "    }\n",
       "</style>\n",
       "<table border=\"1\" class=\"dataframe\">\n",
       "  <thead>\n",
       "    <tr style=\"text-align: right;\">\n",
       "      <th></th>\n",
       "      <th>PassengerId</th>\n",
       "      <th>Survived</th>\n",
       "      <th>Pclass</th>\n",
       "      <th>Name</th>\n",
       "      <th>Sex</th>\n",
       "      <th>Age</th>\n",
       "      <th>SibSp</th>\n",
       "      <th>Parch</th>\n",
       "      <th>Ticket</th>\n",
       "      <th>Fare</th>\n",
       "      <th>Cabin</th>\n",
       "      <th>Embarked</th>\n",
       "      <th>Person</th>\n",
       "    </tr>\n",
       "  </thead>\n",
       "  <tbody>\n",
       "    <tr>\n",
       "      <th>0</th>\n",
       "      <td>1</td>\n",
       "      <td>0</td>\n",
       "      <td>3</td>\n",
       "      <td>Braund, Mr. Owen Harris</td>\n",
       "      <td>male</td>\n",
       "      <td>22.0</td>\n",
       "      <td>1</td>\n",
       "      <td>0</td>\n",
       "      <td>A/5 21171</td>\n",
       "      <td>7.2500</td>\n",
       "      <td>NaN</td>\n",
       "      <td>S</td>\n",
       "      <td>1</td>\n",
       "    </tr>\n",
       "    <tr>\n",
       "      <th>1</th>\n",
       "      <td>2</td>\n",
       "      <td>1</td>\n",
       "      <td>1</td>\n",
       "      <td>Cumings, Mrs. John Bradley (Florence Briggs Th...</td>\n",
       "      <td>female</td>\n",
       "      <td>38.0</td>\n",
       "      <td>1</td>\n",
       "      <td>0</td>\n",
       "      <td>PC 17599</td>\n",
       "      <td>71.2833</td>\n",
       "      <td>C85</td>\n",
       "      <td>C</td>\n",
       "      <td>1</td>\n",
       "    </tr>\n",
       "    <tr>\n",
       "      <th>2</th>\n",
       "      <td>3</td>\n",
       "      <td>1</td>\n",
       "      <td>3</td>\n",
       "      <td>Heikkinen, Miss. Laina</td>\n",
       "      <td>female</td>\n",
       "      <td>26.0</td>\n",
       "      <td>0</td>\n",
       "      <td>0</td>\n",
       "      <td>STON/O2. 3101282</td>\n",
       "      <td>7.9250</td>\n",
       "      <td>NaN</td>\n",
       "      <td>S</td>\n",
       "      <td>1</td>\n",
       "    </tr>\n",
       "    <tr>\n",
       "      <th>3</th>\n",
       "      <td>4</td>\n",
       "      <td>1</td>\n",
       "      <td>1</td>\n",
       "      <td>Futrelle, Mrs. Jacques Heath (Lily May Peel)</td>\n",
       "      <td>female</td>\n",
       "      <td>35.0</td>\n",
       "      <td>1</td>\n",
       "      <td>0</td>\n",
       "      <td>113803</td>\n",
       "      <td>53.1000</td>\n",
       "      <td>C123</td>\n",
       "      <td>S</td>\n",
       "      <td>1</td>\n",
       "    </tr>\n",
       "    <tr>\n",
       "      <th>4</th>\n",
       "      <td>5</td>\n",
       "      <td>0</td>\n",
       "      <td>3</td>\n",
       "      <td>Allen, Mr. William Henry</td>\n",
       "      <td>male</td>\n",
       "      <td>35.0</td>\n",
       "      <td>0</td>\n",
       "      <td>0</td>\n",
       "      <td>373450</td>\n",
       "      <td>8.0500</td>\n",
       "      <td>NaN</td>\n",
       "      <td>S</td>\n",
       "      <td>1</td>\n",
       "    </tr>\n",
       "    <tr>\n",
       "      <th>5</th>\n",
       "      <td>6</td>\n",
       "      <td>0</td>\n",
       "      <td>3</td>\n",
       "      <td>Moran, Mr. James</td>\n",
       "      <td>male</td>\n",
       "      <td>NaN</td>\n",
       "      <td>0</td>\n",
       "      <td>0</td>\n",
       "      <td>330877</td>\n",
       "      <td>8.4583</td>\n",
       "      <td>NaN</td>\n",
       "      <td>Q</td>\n",
       "      <td>1</td>\n",
       "    </tr>\n",
       "    <tr>\n",
       "      <th>6</th>\n",
       "      <td>7</td>\n",
       "      <td>0</td>\n",
       "      <td>1</td>\n",
       "      <td>McCarthy, Mr. Timothy J</td>\n",
       "      <td>male</td>\n",
       "      <td>54.0</td>\n",
       "      <td>0</td>\n",
       "      <td>0</td>\n",
       "      <td>17463</td>\n",
       "      <td>51.8625</td>\n",
       "      <td>E46</td>\n",
       "      <td>S</td>\n",
       "      <td>1</td>\n",
       "    </tr>\n",
       "    <tr>\n",
       "      <th>7</th>\n",
       "      <td>8</td>\n",
       "      <td>0</td>\n",
       "      <td>3</td>\n",
       "      <td>Palsson, Master. Gosta Leonard</td>\n",
       "      <td>male</td>\n",
       "      <td>2.0</td>\n",
       "      <td>3</td>\n",
       "      <td>1</td>\n",
       "      <td>349909</td>\n",
       "      <td>21.0750</td>\n",
       "      <td>NaN</td>\n",
       "      <td>S</td>\n",
       "      <td>1</td>\n",
       "    </tr>\n",
       "    <tr>\n",
       "      <th>8</th>\n",
       "      <td>9</td>\n",
       "      <td>1</td>\n",
       "      <td>3</td>\n",
       "      <td>Johnson, Mrs. Oscar W (Elisabeth Vilhelmina Berg)</td>\n",
       "      <td>female</td>\n",
       "      <td>27.0</td>\n",
       "      <td>0</td>\n",
       "      <td>2</td>\n",
       "      <td>347742</td>\n",
       "      <td>11.1333</td>\n",
       "      <td>NaN</td>\n",
       "      <td>S</td>\n",
       "      <td>1</td>\n",
       "    </tr>\n",
       "    <tr>\n",
       "      <th>9</th>\n",
       "      <td>10</td>\n",
       "      <td>1</td>\n",
       "      <td>2</td>\n",
       "      <td>Nasser, Mrs. Nicholas (Adele Achem)</td>\n",
       "      <td>female</td>\n",
       "      <td>14.0</td>\n",
       "      <td>1</td>\n",
       "      <td>0</td>\n",
       "      <td>237736</td>\n",
       "      <td>30.0708</td>\n",
       "      <td>NaN</td>\n",
       "      <td>C</td>\n",
       "      <td>1</td>\n",
       "    </tr>\n",
       "  </tbody>\n",
       "</table>\n",
       "</div>"
      ],
      "text/plain": [
       "   PassengerId  Survived  Pclass  \\\n",
       "0            1         0       3   \n",
       "1            2         1       1   \n",
       "2            3         1       3   \n",
       "3            4         1       1   \n",
       "4            5         0       3   \n",
       "5            6         0       3   \n",
       "6            7         0       1   \n",
       "7            8         0       3   \n",
       "8            9         1       3   \n",
       "9           10         1       2   \n",
       "\n",
       "                                                Name     Sex   Age  SibSp  \\\n",
       "0                            Braund, Mr. Owen Harris    male  22.0      1   \n",
       "1  Cumings, Mrs. John Bradley (Florence Briggs Th...  female  38.0      1   \n",
       "2                             Heikkinen, Miss. Laina  female  26.0      0   \n",
       "3       Futrelle, Mrs. Jacques Heath (Lily May Peel)  female  35.0      1   \n",
       "4                           Allen, Mr. William Henry    male  35.0      0   \n",
       "5                                   Moran, Mr. James    male   NaN      0   \n",
       "6                            McCarthy, Mr. Timothy J    male  54.0      0   \n",
       "7                     Palsson, Master. Gosta Leonard    male   2.0      3   \n",
       "8  Johnson, Mrs. Oscar W (Elisabeth Vilhelmina Berg)  female  27.0      0   \n",
       "9                Nasser, Mrs. Nicholas (Adele Achem)  female  14.0      1   \n",
       "\n",
       "   Parch            Ticket     Fare Cabin Embarked  Person  \n",
       "0      0         A/5 21171   7.2500   NaN        S       1  \n",
       "1      0          PC 17599  71.2833   C85        C       1  \n",
       "2      0  STON/O2. 3101282   7.9250   NaN        S       1  \n",
       "3      0            113803  53.1000  C123        S       1  \n",
       "4      0            373450   8.0500   NaN        S       1  \n",
       "5      0            330877   8.4583   NaN        Q       1  \n",
       "6      0             17463  51.8625   E46        S       1  \n",
       "7      1            349909  21.0750   NaN        S       1  \n",
       "8      2            347742  11.1333   NaN        S       1  \n",
       "9      0            237736  30.0708   NaN        C       1  "
      ]
     },
     "execution_count": 2,
     "metadata": {},
     "output_type": "execute_result"
    }
   ],
   "source": [
    "import pandas as pd\n",
    "import numpy as np\n",
    "import matplotlib.pyplot as plt\n",
    "import seaborn as sns\n",
    "\n",
    "%pylab inline\n",
    "\n",
    "titanic_dataframe = pd.read_csv('titanic-data.csv')\n",
    "titanic_dataframe.head(n = 10)"
   ]
  },
  {
   "cell_type": "markdown",
   "metadata": {},
   "source": [
    "## Explore Data"
   ]
  },
  {
   "cell_type": "markdown",
   "metadata": {},
   "source": [
    "In this section, we start to explore our data. From the titanic-data.csv file, we find that there are total 891 records. But in histroy there are around 2300 passengers and crew members on board. We also find that there are a lot of miss records in Cabin columns. The age column has some miss data but most data are still recorded. \n"
   ]
  },
  {
   "cell_type": "code",
   "execution_count": 14,
   "metadata": {},
   "outputs": [
    {
     "name": "stdout",
     "output_type": "stream",
     "text": [
      "Total passengers: 891\n"
     ]
    }
   ],
   "source": [
    "print 'Total passengers: {}'.format(len(titanic_dataframe))"
   ]
  },
  {
   "cell_type": "markdown",
   "metadata": {},
   "source": [
    "###  1. Survival VS PClass\n",
    "\n",
    " we find that there are total 549 deaths and 342 survivals."
   ]
  },
  {
   "cell_type": "code",
   "execution_count": 15,
   "metadata": {},
   "outputs": [
    {
     "name": "stdout",
     "output_type": "stream",
     "text": [
      "   Survived  Person\n",
      "0         0     549\n",
      "1         1     342\n"
     ]
    }
   ],
   "source": [
    "group_data = titanic_dataframe.groupby('Survived', as_index = False) \n",
    "pclass_group_data = group_data['Person'].sum()\n",
    "print pclass_group_data "
   ]
  },
  {
   "cell_type": "markdown",
   "metadata": {},
   "source": [
    "We divide the deaths and survivals by PClass."
   ]
  },
  {
   "cell_type": "code",
   "execution_count": 4,
   "metadata": {},
   "outputs": [
    {
     "name": "stdout",
     "output_type": "stream",
     "text": [
      "   Survived  Pclass  Person\n",
      "0         0       1      80\n",
      "1         0       2      97\n",
      "2         0       3     372\n",
      "3         1       1     136\n",
      "4         1       2      87\n",
      "5         1       3     119\n"
     ]
    },
    {
     "data": {
      "text/plain": [
       "<matplotlib.legend.Legend at 0x1174ed190>"
      ]
     },
     "execution_count": 4,
     "metadata": {},
     "output_type": "execute_result"
    },
    {
     "data": {
      "image/png": "[encoded data removed]",
      "text/plain": [
       "<matplotlib.figure.Figure at 0x11763b3d0>"
      ]
     },
     "metadata": {},
     "output_type": "display_data"
    }
   ],
   "source": [
    "group_data = titanic_dataframe.groupby(['Survived', 'Pclass'], as_index = False) \n",
    "sum_group_data = group_data['Person'].sum()\n",
    "print sum_group_data\n",
    "\n",
    "person_data = sum_group_data['Person']  \n",
    "\n",
    "plt.bar([0,1,2], person_data.iloc[0:3], color = 'red', label = 'death')\n",
    "plt.bar([0,1,2], person_data.iloc[3:6], color = 'green', bottom = person_data.iloc[0:3], label = 'Survived')\n",
    "plt.xticks([0.5, 1.5, 2.5], ['1st Class','2st Class','3st Class'])\n",
    "plt.xlabel('Class Type')\n",
    "plt.ylabel('Person Number')\n",
    "plt.title('First Second and Third class survival vs death')\n",
    "plt.legend(loc = 'upper left')"
   ]
  },
  {
   "cell_type": "markdown",
   "metadata": {},
   "source": [
    "### 2. Survival VS Sex"
   ]
  },
  {
   "cell_type": "markdown",
   "metadata": {},
   "source": [
    "We devide the death and survival on category of sex"
   ]
  },
  {
   "cell_type": "code",
   "execution_count": 5,
   "metadata": {},
   "outputs": [
    {
     "name": "stdout",
     "output_type": "stream",
     "text": [
      "   Survived     Sex  Person\n",
      "0         0  female      81\n",
      "1         0    male     468\n",
      "2         1  female     233\n",
      "3         1    male     109\n"
     ]
    },
    {
     "data": {
      "text/plain": [
       "<matplotlib.legend.Legend at 0x11a9a6990>"
      ]
     },
     "execution_count": 5,
     "metadata": {},
     "output_type": "execute_result"
    },
    {
     "data": {
      "image/png": "[encoded data removed]",
      "text/plain": [
       "<matplotlib.figure.Figure at 0x1174a3a50>"
      ]
     },
     "metadata": {},
     "output_type": "display_data"
    }
   ],
   "source": [
    "group_data = titanic_dataframe.groupby(['Survived', 'Sex'], as_index = False) \n",
    "sum_group_data = group_data['Person'].sum()\n",
    "print sum_group_data\n",
    "\n",
    "person_data = sum_group_data['Person']  \n",
    "\n",
    "plt.bar([0,1], person_data.iloc[0:2], color = 'red', label = 'death')\n",
    "plt.bar([0,1], person_data.iloc[2:4], color = 'green', bottom = person_data.iloc[0:2], label = 'Survived')\n",
    "plt.xticks([0.4, 1.4], ['Female','Male'])\n",
    "plt.xlabel('Sex')\n",
    "plt.ylabel('Person Number')\n",
    "plt.title('Female and male survival vs death')\n",
    "plt.legend(loc = 'upper left')\n"
   ]
  },
  {
   "cell_type": "markdown",
   "metadata": {},
   "source": [
    "### 3. Survival VS Age\n",
    "\n",
    "We analyze the age of survival. We first give the distribution of ages of all passenger. We can see that most passengers are between 20-40. Then we analyze the survival vs death age distribution using box plot. Finally, we compare the child survival chance with adult survival chance. "
   ]
  },
  {
   "cell_type": "code",
   "execution_count": 6,
   "metadata": {},
   "outputs": [
    {
     "data": {
      "text/plain": [
       "<matplotlib.text.Text at 0x11aad01d0>"
      ]
     },
     "execution_count": 6,
     "metadata": {},
     "output_type": "execute_result"
    },
    {
     "data": {
      "image/png": "[encoded data removed]",
      "text/plain": [
       "<matplotlib.figure.Figure at 0x117404210>"
      ]
     },
     "metadata": {},
     "output_type": "display_data"
    }
   ],
   "source": [
    "age = titanic_dataframe['Age'].dropna(axis = 0, how = 'any')\n",
    "\n",
    "plt.hist(age)\n",
    "plt.xlabel('Age')\n",
    "plt.ylabel('Number of Person')\n",
    "plt.title('Age distribution')\n",
    "\n"
   ]
  },
  {
   "cell_type": "code",
   "execution_count": 7,
   "metadata": {},
   "outputs": [
    {
     "data": {
      "text/plain": [
       "<matplotlib.text.Text at 0x11abd9e50>"
      ]
     },
     "execution_count": 7,
     "metadata": {},
     "output_type": "execute_result"
    },
    {
     "data": {
      "image/png": "[encoded data removed]",
      "text/plain": [
       "<matplotlib.figure.Figure at 0x11a988f50>"
      ]
     },
     "metadata": {},
     "output_type": "display_data"
    }
   ],
   "source": [
    "\n",
    "survive_age = titanic_dataframe[['Survived','Age']].dropna(axis = 0, how = 'any')\n",
    "\n",
    "survive = survive_age['Survived']\n",
    "age = survive_age['Age']\n",
    "\n",
    "survived = age[survive == 1]\n",
    "died = age[survive == 0]\n",
    " \n",
    "bp = plt.boxplot([died, survived])\n",
    "plt.xticks([1,2],['Died', 'Survived'])\n",
    "plt.yticks(np.arange(0,85,5))\n",
    "plt.xlabel('Survived or Death')\n",
    "plt.ylabel('Age') \n",
    "plt.title(\"Survived by Age\")\n",
    "\n"
   ]
  },
  {
   "cell_type": "code",
   "execution_count": 8,
   "metadata": {},
   "outputs": [
    {
     "data": {
      "text/plain": [
       "<matplotlib.legend.Legend at 0x11abc6c50>"
      ]
     },
     "execution_count": 8,
     "metadata": {},
     "output_type": "execute_result"
    },
    {
     "data": {
      "image/png": "[encoded data removed]",
      "text/plain": [
       "<matplotlib.figure.Figure at 0x1176376d0>"
      ]
     },
     "metadata": {},
     "output_type": "display_data"
    }
   ],
   "source": [
    "survive_info = [0,0,0,0] \n",
    "\n",
    "for i in np.arange(len(survive_age)): \n",
    "    if survive.iloc[i] == 0 and age.iloc[i] < 18.:\n",
    "        survive_info[0] += 1\n",
    "    elif survive.iloc[i] == 0 and age.iloc[i] >= 18.:\n",
    "        survive_info[1] += 1\n",
    "    elif survive.iloc[i] == 1 and age.iloc[i] < 18.:\n",
    "        survive_info[2] += 1\n",
    "    else:\n",
    "        survive_info[3] += 1\n",
    "\n",
    "plt.bar([0,1], survive_info[0:2], color = 'red', label = 'death')\n",
    "plt.bar([0,1], survive_info[2:4], color = 'green', bottom = survive_info[0:2], label = 'Survived')\n",
    "plt.xticks([0.4, 1.4], ['Age < 18','Age > 18'])\n",
    "plt.xlabel('Age')\n",
    "plt.ylabel('Person Number')\n",
    "plt.title('Child and Adult survival vs death')\n",
    "plt.legend(loc = 'upper left')"
   ]
  },
  {
   "cell_type": "markdown",
   "metadata": {},
   "source": [
    "### 4. Survival VS Fare\n",
    "\n",
    "We use box plot to measure the fare of survived group and dead group."
   ]
  },
  {
   "cell_type": "code",
   "execution_count": 9,
   "metadata": {},
   "outputs": [
    {
     "data": {
      "text/plain": [
       "<matplotlib.text.Text at 0x11aeefe90>"
      ]
     },
     "execution_count": 9,
     "metadata": {},
     "output_type": "execute_result"
    },
    {
     "data": {
      "image/png": "[encoded data removed]",
      "text/plain": [
       "<matplotlib.figure.Figure at 0x11ae43390>"
      ]
     },
     "metadata": {},
     "output_type": "display_data"
    }
   ],
   "source": [
    "\n",
    "survive_fare = titanic_dataframe[['Survived','Fare']]\n",
    "\n",
    "survive = survive_fare['Survived']\n",
    "fare = survive_fare['Fare']\n",
    "\n",
    "survived = fare[survive == 1]\n",
    "died = fare[survive == 0]\n",
    " \n",
    "bp = plt.boxplot([died, survived], patch_artist=True, vert=0)\n",
    " \n",
    "    \n",
    "\n",
    "plt.yticks([1,2],['Died', 'Survived'])\n",
    "plt.xticks(np.arange(0,600,50))\n",
    "plt.ylabel('Survived or Death')\n",
    "plt.xlabel('Fare') \n",
    "plt.title(\"Survived by Fare\")\n",
    "\n"
   ]
  },
  {
   "cell_type": "markdown",
   "metadata": {},
   "source": [
    "## Conclusion\n",
    "\n",
    "To conclude our work, we find the possible relation between PClass, Sex, Age, Fare and the survival chance. From the diagram *First, second and third class survival vs death*, we find that the first class has the highest survival rate, while the third class has the lowest survival rate; From the diagram *Female and male survival vs death*, we find that the female passengers has much higher chance of survive than the male passenger; From the diagram *Survived by age* and *Child and adult survival vs death*, we find the survived people tend to be young adult and the children has more chance to survive than adult; From the diagram *Survived by fare*, we find the survived group tend to pay more than the death group.\n",
    "\n",
    "\n"
   ]
  },
  {
   "cell_type": "markdown",
   "metadata": {
    "collapsed": true
   },
   "source": [
    "The limit of data set is there are only 891 records available in our data sets. We only get a small piece of sample data set instead of population. This maybe caused by the loss of history record, or unrecorded passenger or crew information due to proverty or low social rank. The difference between the sample and the population, we don't know how the sample was chosen from the actual population of people that were on the Titanic. There could have been some sort of intentional or unintentional bias in how the sample was selected."
   ]
  },
  {
   "cell_type": "code",
   "execution_count": null,
   "metadata": {
    "collapsed": true
   },
   "outputs": [],
   "source": []
  }
 ],
 "metadata": {
  "kernelspec": {
   "display_name": "Python 2",
   "language": "python",
   "name": "python2"
  },
  "language_info": {
   "codemirror_mode": {
    "name": "ipython",
    "version": 2
   },
   "file_extension": ".py",
   "mimetype": "text/x-python",
   "name": "python",
   "nbconvert_exporter": "python",
   "pygments_lexer": "ipython2",
   "version": "2.7.13"
  }
 },
 "nbformat": 4,
 "nbformat_minor": 2
}
