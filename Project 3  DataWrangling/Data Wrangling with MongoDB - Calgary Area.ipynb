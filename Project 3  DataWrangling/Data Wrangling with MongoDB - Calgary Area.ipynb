{
 "cells": [
  {
   "cell_type": "markdown",
   "metadata": {},
   "source": [
    "# Data Wrangling with MongoDB -- Calgary Area"
   ]
  },
  {
   "cell_type": "markdown",
   "metadata": {},
   "source": [
    "### Map Area: Calgary, AB, Canada\n",
    "****"
   ]
  },
  {
   "cell_type": "markdown",
   "metadata": {},
   "source": [
    "I lived in Calgary for a few years ago. So I am interested in looking into the data quality of city calgary and check what data query revealed in openmap. I would like an opportunity to contribute to its improvement on OpenStreetMap.org."
   ]
  },
  {
   "cell_type": "markdown",
   "metadata": {},
   "source": [
    "## Section 1. Problems in the Map"
   ]
  },
  {
   "cell_type": "markdown",
   "metadata": {},
   "source": [
    "After downloading a small sample of the Calgary area data from OpenStreetMap, we use the data.py file to run a test and review the quality of the data on map information. I notice that most information on Calgary OpenStreetMap are well maintained. But there are still very few problem on the information of map:\n",
    "\n",
    "> * The format of postal code is not uniform.\n",
    "\n",
    "> * The format of address unit is not unform.\n",
    "\n",
    "> * The Inconsistent postal Code.\n",
    "\n",
    "> * Typo of postal code.\n",
    "\n"
   ]
  },
  {
   "cell_type": "markdown",
   "metadata": {},
   "source": [
    "### Postal Code"
   ]
  },
  {
   "cell_type": "markdown",
   "metadata": {},
   "source": [
    "The postal code in calgary is not in uniform format. In some area postal codes are 'T2L1H4' while other area are in the form 'T3A 2H4'. In offical postal code, there is a space between the first 3 letters and the next three letters. The offical format postal code benefits MongoDB aggregation calls on postal codes.\n",
    "\n",
    "There are errors in postal code in osm file such as 'T2T 0A7;T2T 0A7'. This may be caused from typo caused by contributors. We will implement the data clean process to correct the error of the postal code into the correct one.\n",
    "\n",
    "There are also inconsistant format of postal code in osm fiel such as 'AB T2S 2N1'. The data cleaning process deletes the province letters in front. "
   ]
  },
  {
   "cell_type": "markdown",
   "metadata": {},
   "source": [
    "### Address Unit"
   ]
  },
  {
   "cell_type": "markdown",
   "metadata": {},
   "source": [
    "The address unit in calgary is not in uniform format. In some house unit, the addresses are in the form of '106', while others are in the form of '#104'. We will use the offical house unit number format, that is in the form of number '106'. The offical format unit benefits MongoDB aggregation calls on house unit."
   ]
  },
  {
   "cell_type": "markdown",
   "metadata": {},
   "source": [
    "## Section 2. Data Overview"
   ]
  },
  {
   "cell_type": "markdown",
   "metadata": {},
   "source": [
    "This section we invest the basic statistics about the dataset and use Mongodb queries to gather them."
   ]
  },
  {
   "cell_type": "markdown",
   "metadata": {},
   "source": [
    "### Size of files"
   ]
  },
  {
   "cell_type": "markdown",
   "metadata": {},
   "source": [
    "> Calgary.json ........ 86.8 MB  \n",
    "Calgary.osm ......... 55.2 MB"
   ]
  },
  {
   "cell_type": "markdown",
   "metadata": {},
   "source": [
    "### Number of documents"
   ]
  },
  {
   "cell_type": "markdown",
   "metadata": {},
   "source": [
    "\\> db.calgarymap.find().count()  \n",
    "> 271435"
   ]
  },
  {
   "cell_type": "markdown",
   "metadata": {},
   "source": [
    "### Number of nodes and ways"
   ]
  },
  {
   "cell_type": "markdown",
   "metadata": {},
   "source": [
    "\\> db.calgarymap.find({\"type\":\"node\"}).count()  \n",
    "> 233027   \n",
    "\n",
    "\\> db.calgarymap.find({\"type\":\"way\"}).count()  \n",
    "> 38408 "
   ]
  },
  {
   "cell_type": "markdown",
   "metadata": {},
   "source": [
    "### Number of unique users"
   ]
  },
  {
   "cell_type": "markdown",
   "metadata": {},
   "source": [
    "\\> db.calgarymap.distinct(\"created.user\").__len__()  \n",
    ">  606"
   ]
  },
  {
   "cell_type": "markdown",
   "metadata": {},
   "source": [
    "### Top 10 contibuting user\n",
    "\n",
    "\\> ```db.calgarymap.aggregate([{\"$group\":{\"_id\":\"$created.user\", \"count\":{\"$sum\":1}}}, {\"$sort\":{\"count\":-1}}, {\"$limit\":10}]) ```   \n",
    "> {u'count': 48600, u'_id': u'abDoug'}  \n",
    "{u'count': 33729, u'_id': u'Zippanova'}  \n",
    "{u'count': 27837, u'_id': u'JamesBadger'}  \n",
    "..."
   ]
  },
  {
   "cell_type": "markdown",
   "metadata": {},
   "source": [
    "### The number of coffee store\n",
    "\n",
    "\n",
    "\\> db.calgarymap.find({'cuisine' : 'coffee_shop'}).count()  \n",
    "> 48"
   ]
  },
  {
   "cell_type": "markdown",
   "metadata": {},
   "source": [
    "## Section 3. Addtional Ideas"
   ]
  },
  {
   "cell_type": "markdown",
   "metadata": {},
   "source": [
    "The contribution of users seems skewed. Here are some user percentage statistics:\n",
    "\n",
    "* Top user contribution percentage (“abDoug”) - 17.90%\n",
    "* Combined top 2 users' contribution (“abDoug” and “Zippanova”) - 30.33%\n",
    "* Combined Top 10 users contribution - 70.76% "
   ]
  },
  {
   "cell_type": "markdown",
   "metadata": {},
   "source": [
    "### Additional data exploration using mongoDB queries\n",
    "\n",
    "##### Top 10 amenity: \n",
    "\\> ```db.calgarymap.aggregate([{\"$match\":{\"amenity\":{\"$exists\":1}}}, {\"$group\":{\"_id\":\"$amenity\", \"count\":{\"$sum\":1}}}, {\"$sort\":{\"count\":-1}}, {\"$limit\":10}])```  \n",
    "> {u'count': 1051, u'_id': u'parking'}  \n",
    "{u'count': 356, u'_id': u'restaurant'}  \n",
    "{u'count': 274, u'_id': u'fast_food'}   \n",
    "...\n",
    "\n",
    "##### Top 10 cuisine:\n",
    "\\> ```db.calgarymap.aggregate([{\"$match\":{\"cuisine\":{\"$exists\":1}}}, {\"$group\":{\"_id\":\"$cuisine\", \"count\":{\"$sum\":1}}}, {\"$sort\":{\"count\":-1}},{\"$limit\":10}])```  \n",
    "> {u'count': 48, u'_id': u'coffee_shop'}   \n",
    "{u'count': 41, u'_id': u'burger'}   \n",
    "{u'count': 34, u'_id': u'pizza'}  \n",
    "...\n"
   ]
  },
  {
   "cell_type": "markdown",
   "metadata": {},
   "source": [
    "## Conclusion"
   ]
  },
  {
   "cell_type": "markdown",
   "metadata": {},
   "source": [
    "After this review of the data in calgary area on openstreetmap, there are obviously a few errors and incompletion on map. It interets for me to notice there are a fare mount of contributors on openstreetmap on calgary area. With a more robust GPS data processor and working contributor together wiht more robust data processor, I think it would be possible to get a great mount of cleaned data to openstreetmap.\n"
   ]
  }
 ],
 "metadata": {
  "kernelspec": {
   "display_name": "Python 2",
   "language": "python",
   "name": "python2"
  },
  "language_info": {
   "codemirror_mode": {
    "name": "ipython",
    "version": 2
   },
   "file_extension": ".py",
   "mimetype": "text/x-python",
   "name": "python",
   "nbconvert_exporter": "python",
   "pygments_lexer": "ipython2",
   "version": "2.7.13"
  }
 },
 "nbformat": 4,
 "nbformat_minor": 2
}
